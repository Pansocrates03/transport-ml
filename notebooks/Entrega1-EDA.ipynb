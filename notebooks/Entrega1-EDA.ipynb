{
 "cells": [
  {
   "cell_type": "markdown",
   "id": "71ef8a59",
   "metadata": {},
   "source": [
    "# Entrega 1\n",
    "- A00836286 | Esteban Sierra Baccio\n",
    "- A00837527 | Diego de Jesús Esparza Ruíz\n",
    "- A01722667 | Javier Jorge Hernández Verduzco\n",
    "- A01285193 | Sergio Omar Flores García\n",
    "- A01613878 | Sergio Aarón Hernández Orta\n"
   ]
  },
  {
   "cell_type": "markdown",
   "id": "ef1ff947",
   "metadata": {},
   "source": [
    "## 1. Exploración Inicial de Datos (2-3 páginas + código)"
   ]
  },
  {
   "cell_type": "code",
   "execution_count": null,
   "id": "5b87c075",
   "metadata": {},
   "outputs": [],
   "source": [
    "# Leer los datos\n",
    "import pandas as pd\n",
    "import numpy as np\n",
    "\n",
    "df = pd.read_excel(\"../data/raw/Viajes Sep-Dic 24 v2.xlsx\", sheet_name='Viajes')\n",
    "df.head()\n"
   ]
  },
  {
   "cell_type": "markdown",
   "id": "71214f64",
   "metadata": {},
   "source": [
    "### 1.1 Análisis descriptivo completo de todas las variables\n",
    "\n",
    "\n",
    "1. Viaje\n",
    "    - Se refiere al ID del viaje, es un valor entero de 6 dígitos.\n",
    "2. Permiso\n",
    "    - El ID del permiso utilizado.\n",
    "3. Shipment\n",
    "    - Movimiento de mercancías de un punto a otro. Es la unidad básica de transporte o la acción de enviar los bienes\n",
    "4. Sociedad\n",
    "    - Entidad legal o compañía dentro de la corporación que está realizando o gestionando el transporte\n",
    "5. Planta Origen\n",
    "    - El código de la planta de origen.\n",
    "6. Tipo Planta\n",
    "    - Puede ser \"masivos\" o \"revestidos\"\n",
    "7. Origen\n",
    "    - Estado de origen del pedido.\n",
    "8. Destino\n",
    "    - Ciudad destino del pedido.\n",
    "9. Ori-Dest-TT\n",
    "    - Origen, destino y tipo de transporte juntos.\n",
    "10. Ori-Dest\n",
    "    - Origen y destino\n",
    "11. Deposito Origen\n",
    "    - Código del depósito de origen\n",
    "12. Tipo planta\n",
    "    - Customizados, masivos o revestidos\n",
    "13. Desc Org. Apt\n",
    "    - Churubusco, monclova o universidad\n",
    "14. TPP\n",
    "    - Código de la planta\n",
    "15. Desc TPP\n",
    "    - El nombre de la planta\n",
    "16. Transp.Leg\n",
    "    - Proveedor de transporte legalmente contratado o al tramo del viaje definido por un contrato o regulación legal.\n",
    "5. Nombre\n",
    "    - Nombre de la empresa de transportes\n",
    "5. TpoTrn.APT\n",
    "    - Categoría o clase de transbordo o trayecto que se considera apto para esa operación específica (ej. directo, consolidado, intermodal).\n",
    "5. TpoTrn.Leg\n",
    "    - Id del tipo de transporte\n",
    "5. Desc TpoTrn\n",
    "    - Descripcion del tipo de transporte\n",
    "5. Tipo transporte\n",
    "    - Tipo de transporte\n",
    "5. Garantía\n",
    "    - Puede ser un campo que indica si el envío tiene una garantía de entrega (ej. de tiempo) o si se aplica una prima de seguro o garantía por el valor de la carga.\n",
    "5. Flete Falso (KG)\n",
    "    - Se denomina “flete falso” al espacio sin ocupar que queda libre en el medio de transporte que lleva una carga. Por ejemplo, cuando la carga de un camión ocupa sólo una parte de la capacidad total del mismo, se produce una disminución del rendimiento de la flota y a su vez se genera un sobre costo para el fletador.\n",
    "5. Flete Falso (MXN)\n",
    "    - En base al peso del flete falso se obtiene una cantidad de dinero desperdiciado en MXN\n",
    "5. Flete Falso (USD)\n",
    "    - En base al peso del flete falso se obtiene una cantidad de dinero desperdiciado en USD\n",
    "5. TpoVje\n",
    "    - Tipo de viaje\n",
    "5. TpoSrv\n",
    "    - Tipo de servicio\n",
    "5. TpoPermiso\n",
    "    - Tipo de permiso\n",
    "5. F.Salida\n",
    "    - Día de salida\n",
    "5. H.Salida\n",
    "    - Horario de salida\n",
    "5. #Remitos\n",
    "    - Se refiere al número de documentos que acompañan la mercancía, detallando lo que se transporta. El símbolo # antes del nombre sugiere que es el número de remitos.\n",
    "5. Modal.\n",
    "    - \tIndica el modo en que se realiza el transporte (ej. Terrestre (camión, tren), Marítimo (barco), Aéreo (avión)).\n",
    "5. Peso Total (kg)\n",
    "    - Peso total de la carga\n",
    "5. Costo\n",
    "    - Costo de transporte\n",
    "5. Costo Prom\n",
    "    - El costo promedio por unidad de medida (podría ser por envío, por kilogramo, por kilómetro, etc., dependiendo del cálculo de la empresa).\n",
    "5. Variación\n",
    "    - Generalmente indica la diferencia (en monto o porcentaje) entre el costo real/final y un costo estándar, presupuestado, o el costo promedio.\n",
    "5. CostoxTn\n",
    "    - Costo por tonelada. El costo total de transporte dividido por el peso total en toneladas del envío. Es un indicador clave de eficiencia.\n",
    "5. Shp.Cost\n",
    "    - El costo total asociado al envío o la expedición, sin prorratear. Es sinónimo de Costo.\n",
    "5. Monto Real\n",
    "    - El valor económico definitivo del flete o del servicio de transporte, tal como se facturó o incurrió.\n",
    "5. Monto Falso\n",
    "    - Es un término inusual; podría referirse al monto presupuestado, un costo de referencia simulado para comparación, o un costo basado en una tarifa estándar antes de aplicar descuentos o cargos reales.\n",
    "5. Monto Reparto\n",
    "    - El monto del costo de transporte que ha sido asignado o distribuido a un centro de costos, producto o cliente específico.\n",
    "5. Moneda\n",
    "    - Moneda con la que se realizó el pago, todas son \"MXN\"\n",
    "5. Estatus\n",
    "    - Estado del viaje, todos están en \"SH\""
   ]
  },
  {
   "cell_type": "markdown",
   "id": "c52fd75d",
   "metadata": {},
   "source": [
    "### 1.2 Identificación de patrones temporales, distribuciones y relaciones preliminares"
   ]
  },
  {
   "cell_type": "code",
   "execution_count": null,
   "id": "d4c6b741",
   "metadata": {},
   "outputs": [],
   "source": [
    "import seaborn as sns\n",
    "import matplotlib.pyplot as plt\n",
    "\n",
    "# Obtener la matriz de correlación solo para columnas numéricas\n",
    "correlation_matrix = df.select_dtypes(include=[np.number]).corr()\n",
    "\n",
    "plt.figure(figsize=(8, 6))\n",
    "sns.heatmap(correlation_matrix, annot=True, cmap='coolwarm', fmt='.2f', linewidths=0.5)\n",
    "plt.title('Correlation Matrix Heatmap')\n",
    "plt.show()"
   ]
  },
  {
   "cell_type": "markdown",
   "id": "4d60c46a",
   "metadata": {},
   "source": [
    "Tras la realización de este análisis, podemos concluir que las variables más relacionadas son:\n",
    "1. Viaje - Permiso - Shipment - Shipcost\n",
    "2. Costo - Costo promedio - Monto Real\n",
    "3. Flete falso (kg) - Flete falso (mxn) - Flete falso (usd), y al mismo tiempo, estas se encuentran inversamente relacionadas a peso total"
   ]
  },
  {
   "cell_type": "markdown",
   "id": "d6ad5d22",
   "metadata": {},
   "source": [
    "### 1.3 Detección de anomalías, valores atípicos, y datos faltantes"
   ]
  },
  {
   "cell_type": "code",
   "execution_count": null,
   "id": "1eada143",
   "metadata": {},
   "outputs": [],
   "source": [
    "# Deteccion de valores atípicos en la columna 'Costo'\n",
    "plt.figure(figsize=(10, 6))\n",
    "sns.boxplot(x=df['Costo'])\n",
    "plt.title('Boxplot of Costo')\n",
    "plt.show()"
   ]
  },
  {
   "cell_type": "code",
   "execution_count": null,
   "id": "a951fd74",
   "metadata": {},
   "outputs": [],
   "source": [
    "# Detectar valores atípicos usando boxplots\n",
    "numeric_columns = df.select_dtypes(include=[np.number]).columns\n",
    "plt.figure(figsize=(15, 10))\n",
    "for i, col in enumerate(numeric_columns, 1):\n",
    "    plt.subplot(len(numeric_columns), 1, i)\n",
    "    sns.boxplot(x=df[col])\n",
    "    plt.title(f'Boxplot of {col}')\n",
    "plt.tight_layout()\n",
    "plt.show()"
   ]
  },
  {
   "cell_type": "code",
   "execution_count": null,
   "id": "f841fb32",
   "metadata": {},
   "outputs": [],
   "source": [
    "# Detectar valores faltantes\n",
    "missing_values = df.isnull().sum()\n",
    "print(\"Missing values in each column:\")\n",
    "print(missing_values)\n",
    "\n",
    "print(\"Missing values in TpoVje column:\")\n",
    "print(missing_values['TpoVje'])"
   ]
  },
  {
   "cell_type": "markdown",
   "id": "491412df",
   "metadata": {},
   "source": [
    "### 1.4 Primeras visualizaciones exploratorias que sugieran fenómenos interesantes"
   ]
  },
  {
   "cell_type": "code",
   "execution_count": null,
   "id": "9e048690",
   "metadata": {},
   "outputs": [],
   "source": [
    "# Visualizacion de la distribución de una variable numérica\n",
    "plt.figure(figsize=(10, 6))\n",
    "sns.histplot(df['Costo'], kde=True)\n",
    "plt.title('Distribution of Costo')\n",
    "plt.xlabel('Costo')\n",
    "plt.ylabel('Frequency')\n",
    "plt.show()"
   ]
  },
  {
   "cell_type": "markdown",
   "id": "d7d85f8d",
   "metadata": {},
   "source": [
    "### 1.5 Reflexión sobre la calidad y limitaciones de los datos disponibles\n",
    "\n",
    "Después de haber analizado los datos, podemos ver que tenemos una alta calidad de los datos y en muy pocas ocasiones tendremos que cerar datos nuevos para darle sentidoa al resto. Aun falta descubrir ciertas cosas, entre ellas el por qué hay datos faltantes y la limpieza de estos mismos."
   ]
  },
  {
   "cell_type": "markdown",
   "id": "56e3a326",
   "metadata": {},
   "source": [
    "## 2. Declaración de Enfoque y Perspectiva (1 página)\n",
    "\n",
    "¿Qué perspectiva adoptarán para analizar el problema? (econométrica, optimización, machine learning, sistemas complejos, teoría de juegos, etc.)\n",
    "¿Por qué este enfoque es apropiado dados los datos y el contexto del problema?\n",
    "¿Qué aspectos del problema su enfoque iluminará? ¿Qué aspectos potencialmente oscurecerá?\n",
    "¿Qué supuestos fundamentales están haciendo?\n",
    "\n",
    "Nuestro problema a la mano se reduce a entender los factores que recientemente han afectado los costos de fletes para Ternium. No tenemos información sobre el mercado de transporte en general, ni su oferta, demanda, capacidad, congestión u otras variables sobre el mercado mismo. Teniendo esta información, del lado de los transportistas, se podrían diseñar metodologías para un enfoque de sistemas complejos, pero considerando las limitaciones de los datos que tenemos, hemos optado por un enfoque primariamente econométrico, y secundariamente de optimización. Es decir, la prioridad será entender las variables que afectan los costos de manera lineal o no lineal. Solo cuando hemos comprendido estas variables exploramos las formas en las que se puede mitigar o atenuar el efecto de estas variables para reducir el costo de transporte con la mínima disrupción de las operaciones de logística actual. Este segundo enfoque requiere un mejor entendimiento de las prioridades y criterios que forman las operaciones logísticas actuales de Ternium, para poder crear una propuesta de cómo se podría minimizar los gastos, eligiendo mejor los momentos y compañías para hacer cada transporte.\n",
    "\n",
    "Idealmente, el enfoque econométrico iluminará las “situaciones” o “casos” en los que una o dos variables desproporcionadamente afectan el costo de transporte, más allá de las necesidades reales de Ternium. Nosotros asumimos que habrá situaciones que una vez descubiertas se pueden evitar sin dejar de cumplir los objetivos o compromisos logísticos de Ternium. A su vez, el enfoque de optimización requiere que asumamos que las restricciones, condiciones y objetivos de Ternium dejan espacio suficiente para poder elegir tomar los fletes más ventajosos. Si los fletes elegidos son porque son los únicos o entre muy pocos que permiten a Ternium lograr sus compromisos con clientes (internos o externos), lamentablemente nuestra optimización queda reducida de forma significativa o definitiva.\n",
    "\n",
    "Estos enfoques son los indicados para nuestra situación actual, siendo consciente de perspectiva y visión limitada de la situación, pero a su vez pudiendo ser una m\n",
    "\n",
    "\n",
    "## 3. Preguntas de Investigación (2 páginas)\n",
    "\n",
    "Formulen mínimo 5 preguntas de investigación que guiarán su análisis. Cada pregunta debe:\n",
    "\n",
    "Ser específica y comprobable con los datos disponibles\n",
    "Ir más allá de lo descriptivo hacia lo explicativo o causal\n",
    "Conectar con su enfoque metodológico elegido\n",
    "Incluir una breve justificación de por qué es importante (2-3 oraciones)\n",
    "\n",
    "\n",
    "## 4. Marco Teórico y Revisión de Literatura (3-4 páginas)\n",
    "\n",
    "Mínimo 10 referencias académicas relevantes a su enfoque\n",
    "Síntesis de conceptos clave que informarán su análisis\n",
    "Identificación de metodologías utilizadas en problemas similares\n",
    "Justificación de cómo la literatura informa sus preguntas de investigación\n",
    "Gaps en la literatura que su análisis podría abordar\n",
    "\n",
    "## 5. Plan Metodológico Preliminar (2 páginas)\n",
    "\n",
    "Descripción general de los métodos que planean utilizar\n",
    "Justificación de por qué estos métodos son apropiados para sus preguntas\n",
    "Variables clave que utilizarán y cómo las transformarán/construirán\n",
    "Estrategia de validación que emplearán\n",
    "Limitaciones anticipadas de su enfoque\n",
    "\n",
    "\n",
    "## 6. Hipótesis Formales (1 página)\n",
    "\n",
    "Para cada pregunta de investigación principal, formulen:\n",
    "\n",
    "Hipótesis nula y alternativa\n",
    "Justificación basada en teoría o exploración inicial\n",
    "Cómo planean probar/evaluar cada hipótesis"
   ]
  }
 ],
 "metadata": {
  "kernelspec": {
   "display_name": ".venv (3.12.0)",
   "language": "python",
   "name": "python3"
  },
  "language_info": {
   "codemirror_mode": {
    "name": "ipython",
    "version": 3
   },
   "file_extension": ".py",
   "mimetype": "text/x-python",
   "name": "python",
   "nbconvert_exporter": "python",
   "pygments_lexer": "ipython3",
   "version": "3.12.0"
  }
 },
 "nbformat": 4,
 "nbformat_minor": 5
}
